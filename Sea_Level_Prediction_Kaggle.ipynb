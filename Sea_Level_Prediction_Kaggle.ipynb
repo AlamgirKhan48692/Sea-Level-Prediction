{
 "cells": [
  {
   "cell_type": "markdown",
   "id": "4af58396",
   "metadata": {},
   "source": [
    "\n",
    "# 🌊 Sea Level Prediction Analysis for Global Climate Change\n",
    "\n",
    "This notebook analyzes **EPA sea level data (1880–2013)** and builds machine learning models to predict **future sea level rise through 2050**.\n",
    "\n",
    "---\n",
    "\n",
    "## 📖 Table of Contents\n",
    "1. Introduction  \n",
    "2. Data Exploration  \n",
    "3. Exploratory Data Analysis (EDA)  \n",
    "4. Machine Learning Models  \n",
    "5. Model Comparison  \n",
    "6. Future Predictions  \n",
    "7. Conclusions  \n"
   ]
  },
  {
   "cell_type": "code",
   "execution_count": null,
   "id": "b715fa74",
   "metadata": {},
   "outputs": [],
   "source": [
    "\n",
    "# Import libraries\n",
    "import pandas as pd\n",
    "import numpy as np\n",
    "import matplotlib.pyplot as plt\n",
    "import seaborn as sns\n",
    "import plotly.express as px\n",
    "from sklearn.model_selection import train_test_split\n",
    "from sklearn.linear_model import LinearRegression\n",
    "from sklearn.preprocessing import PolynomialFeatures, StandardScaler\n",
    "from sklearn.metrics import mean_squared_error, r2_score\n",
    "from sklearn.ensemble import RandomForestRegressor\n",
    "import xgboost as xgb\n",
    "import warnings\n",
    "warnings.filterwarnings('ignore')\n",
    "\n",
    "# Load dataset (path adjusted for Kaggle)\n",
    "df = pd.read_csv(\"../input/epa-sea-level/epa-sea-level.csv\")\n",
    "df.head()\n"
   ]
  },
  {
   "cell_type": "markdown",
   "id": "f6a0616c",
   "metadata": {},
   "source": [
    "## 📊 Data Exploration"
   ]
  },
  {
   "cell_type": "code",
   "execution_count": null,
   "id": "4cdf6a7b",
   "metadata": {},
   "outputs": [],
   "source": [
    "\n",
    "print(\"Shape:\", df.shape)\n",
    "print(\"\\nColumns:\", df.columns)\n",
    "print(\"\\nMissing values:\\n\", df.isnull().sum())\n",
    "df.describe()\n"
   ]
  },
  {
   "cell_type": "markdown",
   "id": "be54cf7a",
   "metadata": {},
   "source": [
    "## 🔍 Exploratory Data Analysis"
   ]
  },
  {
   "cell_type": "code",
   "execution_count": null,
   "id": "783ed4c4",
   "metadata": {},
   "outputs": [],
   "source": [
    "\n",
    "# Time series visualization\n",
    "fig = px.line(df, x=\"Year\", y=\"CSIRO Adjusted Sea Level\",\n",
    "              title=\"Sea Level Rise Over Time (1880–2013)\")\n",
    "fig.show()\n",
    "\n",
    "# Decade-wise average\n",
    "df['Decade'] = (df['Year']//10)*10\n",
    "decade_avg = df.groupby('Decade')['CSIRO Adjusted Sea Level'].mean().reset_index()\n",
    "\n",
    "plt.figure(figsize=(10,6))\n",
    "sns.barplot(x=\"Decade\", y=\"CSIRO Adjusted Sea Level\", data=decade_avg, palette=\"Blues\")\n",
    "plt.title(\"Decade-wise Average Sea Level Rise\")\n",
    "plt.xticks(rotation=45)\n",
    "plt.show()\n",
    "\n",
    "# Correlation heatmap\n",
    "plt.figure(figsize=(6,5))\n",
    "sns.heatmap(df.corr(), annot=True, cmap=\"coolwarm\")\n",
    "plt.title(\"Correlation Heatmap\")\n",
    "plt.show()\n"
   ]
  },
  {
   "cell_type": "markdown",
   "id": "f5b24bda",
   "metadata": {},
   "source": [
    "## 🤖 Machine Learning Models"
   ]
  },
  {
   "cell_type": "code",
   "execution_count": null,
   "id": "b0315710",
   "metadata": {},
   "outputs": [],
   "source": [
    "\n",
    "# Feature engineering\n",
    "df['Years_Since_1880'] = df['Year'] - 1880\n",
    "X = df[['Year','Years_Since_1880']]\n",
    "y = df['CSIRO Adjusted Sea Level']\n",
    "\n",
    "X_train, X_test, y_train, y_test = train_test_split(X, y, test_size=0.2, shuffle=False)\n",
    "scaler = StandardScaler()\n",
    "X_train_scaled = scaler.fit_transform(X_train)\n",
    "X_test_scaled = scaler.transform(X_test)\n",
    "\n",
    "results = {}\n",
    "\n",
    "# Linear Regression\n",
    "lr = LinearRegression()\n",
    "lr.fit(X_train_scaled, y_train)\n",
    "lr_pred = lr.predict(X_test_scaled)\n",
    "results[\"Linear Regression\"] = {\"R²\": r2_score(y_test, lr_pred),\n",
    "                                \"RMSE\": np.sqrt(mean_squared_error(y_test, lr_pred))}\n",
    "\n",
    "# Polynomial Regression\n",
    "poly = PolynomialFeatures(degree=2)\n",
    "X_train_poly = poly.fit_transform(X_train_scaled)\n",
    "X_test_poly = poly.transform(X_test_scaled)\n",
    "poly_lr = LinearRegression()\n",
    "poly_lr.fit(X_train_poly, y_train)\n",
    "poly_pred = poly_lr.predict(X_test_poly)\n",
    "results[\"Polynomial Regression\"] = {\"R²\": r2_score(y_test, poly_pred),\n",
    "                                    \"RMSE\": np.sqrt(mean_squared_error(y_test, poly_pred))}\n",
    "\n",
    "# Random Forest\n",
    "rf = RandomForestRegressor(n_estimators=200, random_state=42)\n",
    "rf.fit(X_train_scaled, y_train)\n",
    "rf_pred = rf.predict(X_test_scaled)\n",
    "results[\"Random Forest\"] = {\"R²\": r2_score(y_test, rf_pred),\n",
    "                            \"RMSE\": np.sqrt(mean_squared_error(y_test, rf_pred))}\n",
    "\n",
    "# XGBoost\n",
    "xgbr = xgb.XGBRegressor(n_estimators=500, learning_rate=0.05, max_depth=3, random_state=42)\n",
    "xgbr.fit(X_train_scaled, y_train)\n",
    "xgb_pred = xgbr.predict(X_test_scaled)\n",
    "results[\"XGBoost\"] = {\"R²\": r2_score(y_test, xgb_pred),\n",
    "                      \"RMSE\": np.sqrt(mean_squared_error(y_test, xgb_pred))}\n",
    "\n",
    "pd.DataFrame(results).T\n"
   ]
  },
  {
   "cell_type": "markdown",
   "id": "e2c36c82",
   "metadata": {},
   "source": [
    "## 📈 Model Comparison"
   ]
  },
  {
   "cell_type": "code",
   "execution_count": null,
   "id": "347bceaa",
   "metadata": {},
   "outputs": [],
   "source": [
    "\n",
    "results_df = pd.DataFrame(results).T\n",
    "results_df.sort_values(\"R²\", ascending=False)\n",
    "\n",
    "plt.figure(figsize=(8,5))\n",
    "sns.barplot(x=results_df.index, y=results_df[\"R²\"], palette=\"Greens\")\n",
    "plt.title(\"Model Comparison (R²)\")\n",
    "plt.xticks(rotation=30)\n",
    "plt.show()\n"
   ]
  },
  {
   "cell_type": "markdown",
   "id": "503801c0",
   "metadata": {},
   "source": [
    "## 🔮 Future Predictions (2014–2050)"
   ]
  },
  {
   "cell_type": "code",
   "execution_count": null,
   "id": "b30eb094",
   "metadata": {},
   "outputs": [],
   "source": [
    "\n",
    "future_years = np.arange(2014, 2051)\n",
    "future_df = pd.DataFrame({\"Year\": future_years})\n",
    "future_df[\"Years_Since_1880\"] = future_df[\"Year\"] - 1880\n",
    "future_scaled = scaler.transform(future_df)\n",
    "\n",
    "future_preds = {\n",
    "    \"Linear Regression\": lr.predict(future_scaled),\n",
    "    \"Polynomial Regression\": poly_lr.predict(poly.transform(future_scaled)),\n",
    "    \"Random Forest\": rf.predict(future_scaled),\n",
    "    \"XGBoost\": xgbr.predict(future_scaled),\n",
    "}\n",
    "\n",
    "future_df = pd.concat([future_df, pd.DataFrame(future_preds)], axis=1)\n",
    "\n",
    "# Plot\n",
    "plt.figure(figsize=(12,6))\n",
    "plt.plot(df[\"Year\"], df[\"CSIRO Adjusted Sea Level\"], label=\"Historical Data\")\n",
    "for model in future_preds:\n",
    "    plt.plot(future_years, future_preds[model], label=f\"{model} Prediction\")\n",
    "plt.xlabel(\"Year\")\n",
    "plt.ylabel(\"Sea Level (inches)\")\n",
    "plt.title(\"Sea Level Predictions (2014–2050)\")\n",
    "plt.legend()\n",
    "plt.show()\n",
    "\n",
    "future_df.head()\n"
   ]
  },
  {
   "cell_type": "markdown",
   "id": "676bfb81",
   "metadata": {},
   "source": [
    "## 📝 Conclusions"
   ]
  },
  {
   "cell_type": "code",
   "execution_count": null,
   "id": "21fe6156",
   "metadata": {},
   "outputs": [],
   "source": [
    "\n",
    "print(\"✅ Key Findings:\")\n",
    "print(\"- Sea level rose ~9 inches between 1880–2013.\")\n",
    "print(\"- Models achieve high accuracy (R² > 0.98).\")\n",
    "print(\"- Random Forest and XGBoost perform slightly better than linear models.\")\n",
    "print(\"- Projected additional rise by 2050: ~6–8 inches on average.\")\n",
    "print(\"- Accelerating trend confirms climate change concerns.\")\n"
   ]
  }
 ],
 "metadata": {},
 "nbformat": 4,
 "nbformat_minor": 5
}
